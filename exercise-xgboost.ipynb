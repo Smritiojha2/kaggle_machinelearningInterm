{
 "cells": [
  {
   "cell_type": "markdown",
   "id": "856a7793",
   "metadata": {
    "papermill": {
     "duration": 0.014526,
     "end_time": "2022-03-31T03:23:58.590519",
     "exception": false,
     "start_time": "2022-03-31T03:23:58.575993",
     "status": "completed"
    },
    "tags": []
   },
   "source": [
    "**This notebook is an exercise in the [Intermediate Machine Learning](https://www.kaggle.com/learn/intermediate-machine-learning) course.  You can reference the tutorial at [this link](https://www.kaggle.com/alexisbcook/xgboost).**\n",
    "\n",
    "---\n"
   ]
  },
  {
   "cell_type": "markdown",
   "id": "57f11d5b",
   "metadata": {
    "papermill": {
     "duration": 0.013398,
     "end_time": "2022-03-31T03:23:58.618466",
     "exception": false,
     "start_time": "2022-03-31T03:23:58.605068",
     "status": "completed"
    },
    "tags": []
   },
   "source": [
    "In this exercise, you will use your new knowledge to train a model with **gradient boosting**.\n",
    "\n",
    "# Setup\n",
    "\n",
    "The questions below will give you feedback on your work. Run the following cell to set up the feedback system."
   ]
  },
  {
   "cell_type": "code",
   "execution_count": 1,
   "id": "00184c15",
   "metadata": {
    "execution": {
     "iopub.execute_input": "2022-03-31T03:23:58.652263Z",
     "iopub.status.busy": "2022-03-31T03:23:58.650554Z",
     "iopub.status.idle": "2022-03-31T03:24:01.176670Z",
     "shell.execute_reply": "2022-03-31T03:24:01.177568Z",
     "shell.execute_reply.started": "2022-03-31T03:15:31.672270Z"
    },
    "papermill": {
     "duration": 2.545539,
     "end_time": "2022-03-31T03:24:01.177896",
     "exception": false,
     "start_time": "2022-03-31T03:23:58.632357",
     "status": "completed"
    },
    "tags": []
   },
   "outputs": [
    {
     "name": "stdout",
     "output_type": "stream",
     "text": [
      "Setup Complete\n"
     ]
    }
   ],
   "source": [
    "# Set up code checking\n",
    "import os\n",
    "if not os.path.exists(\"../input/train.csv\"):\n",
    "    os.symlink(\"../input/home-data-for-ml-course/train.csv\", \"../input/train.csv\")  \n",
    "    os.symlink(\"../input/home-data-for-ml-course/test.csv\", \"../input/test.csv\") \n",
    "from learntools.core import binder\n",
    "binder.bind(globals())\n",
    "from learntools.ml_intermediate.ex6 import *\n",
    "print(\"Setup Complete\")"
   ]
  },
  {
   "cell_type": "markdown",
   "id": "c0a066ee",
   "metadata": {
    "papermill": {
     "duration": 0.013712,
     "end_time": "2022-03-31T03:24:01.206273",
     "exception": false,
     "start_time": "2022-03-31T03:24:01.192561",
     "status": "completed"
    },
    "tags": []
   },
   "source": [
    "You will work with the [Housing Prices Competition for Kaggle Learn Users](https://www.kaggle.com/c/home-data-for-ml-course) dataset from the previous exercise. \n",
    "\n",
    "![Ames Housing dataset image](https://i.imgur.com/lTJVG4e.png)\n",
    "\n",
    "Run the next code cell without changes to load the training and validation sets in `X_train`, `X_valid`, `y_train`, and `y_valid`.  The test set is loaded in `X_test`."
   ]
  },
  {
   "cell_type": "code",
   "execution_count": 2,
   "id": "e086ea74",
   "metadata": {
    "execution": {
     "iopub.execute_input": "2022-03-31T03:24:01.243600Z",
     "iopub.status.busy": "2022-03-31T03:24:01.242597Z",
     "iopub.status.idle": "2022-03-31T03:24:01.412510Z",
     "shell.execute_reply": "2022-03-31T03:24:01.412016Z",
     "shell.execute_reply.started": "2022-03-31T03:15:38.922842Z"
    },
    "papermill": {
     "duration": 0.192414,
     "end_time": "2022-03-31T03:24:01.412651",
     "exception": false,
     "start_time": "2022-03-31T03:24:01.220237",
     "status": "completed"
    },
    "tags": []
   },
   "outputs": [],
   "source": [
    "import pandas as pd\n",
    "from sklearn.model_selection import train_test_split\n",
    "\n",
    "# Read the data\n",
    "X = pd.read_csv('../input/train.csv', index_col='Id')\n",
    "X_test_full = pd.read_csv('../input/test.csv', index_col='Id')\n",
    "\n",
    "# Remove rows with missing target, separate target from predictors\n",
    "X.dropna(axis=0, subset=['SalePrice'], inplace=True)\n",
    "y = X.SalePrice              \n",
    "X.drop(['SalePrice'], axis=1, inplace=True)\n",
    "\n",
    "# Break off validation set from training data\n",
    "X_train_full, X_valid_full, y_train, y_valid = train_test_split(X, y, train_size=0.8, test_size=0.2,\n",
    "                                                                random_state=0)\n",
    "\n",
    "# \"Cardinality\" means the number of unique values in a column\n",
    "# Select categorical columns with relatively low cardinality (convenient but arbitrary)\n",
    "low_cardinality_cols = [cname for cname in X_train_full.columns if X_train_full[cname].nunique() < 10 and \n",
    "                        X_train_full[cname].dtype == \"object\"]\n",
    "\n",
    "# Select numeric columns\n",
    "numeric_cols = [cname for cname in X_train_full.columns if X_train_full[cname].dtype in ['int64', 'float64']]\n",
    "\n",
    "# Keep selected columns only\n",
    "my_cols = low_cardinality_cols + numeric_cols\n",
    "X_train = X_train_full[my_cols].copy()\n",
    "X_valid = X_valid_full[my_cols].copy()\n",
    "X_test = X_test_full[my_cols].copy()\n",
    "\n",
    "# One-hot encode the data (to shorten the code, we use pandas)\n",
    "X_train = pd.get_dummies(X_train)\n",
    "X_valid = pd.get_dummies(X_valid)\n",
    "X_test = pd.get_dummies(X_test)\n",
    "X_train, X_valid = X_train.align(X_valid, join='left', axis=1)\n",
    "X_train, X_test = X_train.align(X_test, join='left', axis=1)"
   ]
  },
  {
   "cell_type": "markdown",
   "id": "dfa7d6e4",
   "metadata": {
    "papermill": {
     "duration": 0.01356,
     "end_time": "2022-03-31T03:24:01.440449",
     "exception": false,
     "start_time": "2022-03-31T03:24:01.426889",
     "status": "completed"
    },
    "tags": []
   },
   "source": [
    "# Step 1: Build model\n",
    "\n",
    "### Part A\n",
    "\n",
    "In this step, you'll build and train your first model with gradient boosting.\n",
    "\n",
    "- Begin by setting `my_model_1` to an XGBoost model.  Use the [XGBRegressor](https://xgboost.readthedocs.io/en/latest/python/python_api.html#xgboost.XGBRegressor) class, and set the random seed to 0 (`random_state=0`).  **Leave all other parameters as default.**\n",
    "- Then, fit the model to the training data in `X_train` and `y_train`."
   ]
  },
  {
   "cell_type": "code",
   "execution_count": 3,
   "id": "38e28c4d",
   "metadata": {
    "execution": {
     "iopub.execute_input": "2022-03-31T03:24:01.478082Z",
     "iopub.status.busy": "2022-03-31T03:24:01.472984Z",
     "iopub.status.idle": "2022-03-31T03:24:02.457342Z",
     "shell.execute_reply": "2022-03-31T03:24:02.457803Z",
     "shell.execute_reply.started": "2022-03-31T03:17:12.203917Z"
    },
    "papermill": {
     "duration": 1.003466,
     "end_time": "2022-03-31T03:24:02.457970",
     "exception": false,
     "start_time": "2022-03-31T03:24:01.454504",
     "status": "completed"
    },
    "tags": []
   },
   "outputs": [
    {
     "data": {
      "application/javascript": [
       "parent.postMessage({\"jupyterEvent\": \"custom.exercise_interaction\", \"data\": {\"outcomeType\": 1, \"valueTowardsCompletion\": 0.5, \"interactionType\": 1, \"questionType\": 2, \"questionId\": \"1.1_Model1A\", \"learnToolsVersion\": \"0.3.4\", \"failureMessage\": \"\", \"exceptionClass\": \"\", \"trace\": \"\"}}, \"*\")"
      ],
      "text/plain": [
       "<IPython.core.display.Javascript object>"
      ]
     },
     "metadata": {},
     "output_type": "display_data"
    },
    {
     "data": {
      "text/markdown": [
       "<span style=\"color:#33cc33\">Correct</span>"
      ],
      "text/plain": [
       "Correct"
      ]
     },
     "metadata": {},
     "output_type": "display_data"
    }
   ],
   "source": [
    "from xgboost import XGBRegressor\n",
    "\n",
    "# Define the model\n",
    "my_model_1 = XGBRegressor(random_state=0) # Your code here\n",
    "\n",
    "# Fit the model\n",
    "my_model_1.fit(X_train, y_train) \n",
    "    # Your code here\n",
    "\n",
    "# Check your answer\n",
    "step_1.a.check()"
   ]
  },
  {
   "cell_type": "code",
   "execution_count": 4,
   "id": "eb049fca",
   "metadata": {
    "execution": {
     "iopub.execute_input": "2022-03-31T03:24:02.493790Z",
     "iopub.status.busy": "2022-03-31T03:24:02.492827Z",
     "iopub.status.idle": "2022-03-31T03:24:02.494836Z",
     "shell.execute_reply": "2022-03-31T03:24:02.495225Z"
    },
    "papermill": {
     "duration": 0.021257,
     "end_time": "2022-03-31T03:24:02.495401",
     "exception": false,
     "start_time": "2022-03-31T03:24:02.474144",
     "status": "completed"
    },
    "tags": []
   },
   "outputs": [],
   "source": [
    "# Lines below will give you a hint or solution code\n",
    "#step_1.a.hint()\n",
    "#step_1.a.solution()"
   ]
  },
  {
   "cell_type": "markdown",
   "id": "a802dec1",
   "metadata": {
    "papermill": {
     "duration": 0.014647,
     "end_time": "2022-03-31T03:24:02.525117",
     "exception": false,
     "start_time": "2022-03-31T03:24:02.510470",
     "status": "completed"
    },
    "tags": []
   },
   "source": [
    "### Part B\n",
    "\n",
    "Set `predictions_1` to the model's predictions for the validation data.  Recall that the validation features are stored in `X_valid`."
   ]
  },
  {
   "cell_type": "code",
   "execution_count": 5,
   "id": "f04a2bcd",
   "metadata": {
    "execution": {
     "iopub.execute_input": "2022-03-31T03:24:02.560194Z",
     "iopub.status.busy": "2022-03-31T03:24:02.559224Z",
     "iopub.status.idle": "2022-03-31T03:24:02.576464Z",
     "shell.execute_reply": "2022-03-31T03:24:02.576923Z",
     "shell.execute_reply.started": "2022-03-31T03:17:52.223652Z"
    },
    "papermill": {
     "duration": 0.037167,
     "end_time": "2022-03-31T03:24:02.577090",
     "exception": false,
     "start_time": "2022-03-31T03:24:02.539923",
     "status": "completed"
    },
    "tags": []
   },
   "outputs": [
    {
     "data": {
      "application/javascript": [
       "parent.postMessage({\"jupyterEvent\": \"custom.exercise_interaction\", \"data\": {\"outcomeType\": 1, \"valueTowardsCompletion\": 0.5, \"interactionType\": 1, \"questionType\": 2, \"questionId\": \"1.2_Model1B\", \"learnToolsVersion\": \"0.3.4\", \"failureMessage\": \"\", \"exceptionClass\": \"\", \"trace\": \"\"}}, \"*\")"
      ],
      "text/plain": [
       "<IPython.core.display.Javascript object>"
      ]
     },
     "metadata": {},
     "output_type": "display_data"
    },
    {
     "data": {
      "text/markdown": [
       "<span style=\"color:#33cc33\">Correct</span>"
      ],
      "text/plain": [
       "Correct"
      ]
     },
     "metadata": {},
     "output_type": "display_data"
    }
   ],
   "source": [
    "from sklearn.metrics import mean_absolute_error\n",
    "\n",
    "# Get predictions\n",
    "predictions_1 = my_model_1.predict(X_valid)\n",
    "# Your code here\n",
    "\n",
    "# Check your answer\n",
    "step_1.b.check()"
   ]
  },
  {
   "cell_type": "code",
   "execution_count": 6,
   "id": "c3cc8d15",
   "metadata": {
    "execution": {
     "iopub.execute_input": "2022-03-31T03:24:02.612511Z",
     "iopub.status.busy": "2022-03-31T03:24:02.611595Z",
     "iopub.status.idle": "2022-03-31T03:24:02.614731Z",
     "shell.execute_reply": "2022-03-31T03:24:02.615178Z"
    },
    "papermill": {
     "duration": 0.022379,
     "end_time": "2022-03-31T03:24:02.615334",
     "exception": false,
     "start_time": "2022-03-31T03:24:02.592955",
     "status": "completed"
    },
    "tags": []
   },
   "outputs": [],
   "source": [
    "# Lines below will give you a hint or solution code\n",
    "#step_1.b.hint()\n",
    "#step_1.b.solution()"
   ]
  },
  {
   "cell_type": "markdown",
   "id": "9c9aa013",
   "metadata": {
    "papermill": {
     "duration": 0.017211,
     "end_time": "2022-03-31T03:24:02.648329",
     "exception": false,
     "start_time": "2022-03-31T03:24:02.631118",
     "status": "completed"
    },
    "tags": []
   },
   "source": [
    "### Part C\n",
    "\n",
    "Finally, use the `mean_absolute_error()` function to calculate the mean absolute error (MAE) corresponding to the predictions for the validation set.  Recall that the labels for the validation data are stored in `y_valid`."
   ]
  },
  {
   "cell_type": "code",
   "execution_count": 7,
   "id": "f2a1f47f",
   "metadata": {
    "execution": {
     "iopub.execute_input": "2022-03-31T03:24:02.685300Z",
     "iopub.status.busy": "2022-03-31T03:24:02.684408Z",
     "iopub.status.idle": "2022-03-31T03:24:02.693265Z",
     "shell.execute_reply": "2022-03-31T03:24:02.693703Z",
     "shell.execute_reply.started": "2022-03-31T03:18:42.922783Z"
    },
    "papermill": {
     "duration": 0.029716,
     "end_time": "2022-03-31T03:24:02.693900",
     "exception": false,
     "start_time": "2022-03-31T03:24:02.664184",
     "status": "completed"
    },
    "tags": []
   },
   "outputs": [
    {
     "name": "stdout",
     "output_type": "stream",
     "text": [
      "Mean Absolute Error: 17662.736729452055\n"
     ]
    },
    {
     "data": {
      "application/javascript": [
       "parent.postMessage({\"jupyterEvent\": \"custom.exercise_interaction\", \"data\": {\"outcomeType\": 1, \"valueTowardsCompletion\": 0.5, \"interactionType\": 1, \"questionType\": 2, \"questionId\": \"1.3_Model1C\", \"learnToolsVersion\": \"0.3.4\", \"failureMessage\": \"\", \"exceptionClass\": \"\", \"trace\": \"\"}}, \"*\")"
      ],
      "text/plain": [
       "<IPython.core.display.Javascript object>"
      ]
     },
     "metadata": {},
     "output_type": "display_data"
    },
    {
     "data": {
      "text/markdown": [
       "<span style=\"color:#33cc33\">Correct</span>"
      ],
      "text/plain": [
       "Correct"
      ]
     },
     "metadata": {},
     "output_type": "display_data"
    }
   ],
   "source": [
    "# Calculate MAE\n",
    "mae_1 = mean_absolute_error(y_valid, predictions_1) # Your code here\n",
    "\n",
    "# Uncomment to print MAE\n",
    "print(\"Mean Absolute Error:\" , mae_1)\n",
    "\n",
    "# Check your answer\n",
    "step_1.c.check()"
   ]
  },
  {
   "cell_type": "code",
   "execution_count": 8,
   "id": "fa57eb95",
   "metadata": {
    "execution": {
     "iopub.execute_input": "2022-03-31T03:24:02.732632Z",
     "iopub.status.busy": "2022-03-31T03:24:02.731706Z",
     "iopub.status.idle": "2022-03-31T03:24:02.733763Z",
     "shell.execute_reply": "2022-03-31T03:24:02.734276Z"
    },
    "papermill": {
     "duration": 0.0235,
     "end_time": "2022-03-31T03:24:02.734440",
     "exception": false,
     "start_time": "2022-03-31T03:24:02.710940",
     "status": "completed"
    },
    "tags": []
   },
   "outputs": [],
   "source": [
    "# Lines below will give you a hint or solution code\n",
    "#step_1.c.hint()\n",
    "#step_1.c.solution()"
   ]
  },
  {
   "cell_type": "markdown",
   "id": "1f61b8d1",
   "metadata": {
    "papermill": {
     "duration": 0.016814,
     "end_time": "2022-03-31T03:24:02.768524",
     "exception": false,
     "start_time": "2022-03-31T03:24:02.751710",
     "status": "completed"
    },
    "tags": []
   },
   "source": [
    "# Step 2: Improve the model\n",
    "\n",
    "Now that you've trained a default model as baseline, it's time to tinker with the parameters, to see if you can get better performance!\n",
    "- Begin by setting `my_model_2` to an XGBoost model, using the [XGBRegressor](https://xgboost.readthedocs.io/en/latest/python/python_api.html#xgboost.XGBRegressor) class.  Use what you learned in the previous tutorial to figure out how to change the default parameters (like `n_estimators` and `learning_rate`) to get better results.\n",
    "- Then, fit the model to the training data in `X_train` and `y_train`.\n",
    "- Set `predictions_2` to the model's predictions for the validation data.  Recall that the validation features are stored in `X_valid`.\n",
    "- Finally, use the `mean_absolute_error()` function to calculate the mean absolute error (MAE) corresponding to the predictions on the validation set.  Recall that the labels for the validation data are stored in `y_valid`.\n",
    "\n",
    "In order for this step to be marked correct, your model in `my_model_2` must attain lower MAE than the model in `my_model_1`. "
   ]
  },
  {
   "cell_type": "code",
   "execution_count": 9,
   "id": "ad3a5d75",
   "metadata": {
    "execution": {
     "iopub.execute_input": "2022-03-31T03:24:02.806176Z",
     "iopub.status.busy": "2022-03-31T03:24:02.805271Z",
     "iopub.status.idle": "2022-03-31T03:24:03.785019Z",
     "shell.execute_reply": "2022-03-31T03:24:03.785561Z",
     "shell.execute_reply.started": "2022-03-31T03:21:00.315327Z"
    },
    "papermill": {
     "duration": 1.000069,
     "end_time": "2022-03-31T03:24:03.785722",
     "exception": false,
     "start_time": "2022-03-31T03:24:02.785653",
     "status": "completed"
    },
    "tags": []
   },
   "outputs": [
    {
     "name": "stdout",
     "output_type": "stream",
     "text": [
      "Mean Absolute Error: 17213.82253317637\n"
     ]
    },
    {
     "data": {
      "application/javascript": [
       "parent.postMessage({\"jupyterEvent\": \"custom.exercise_interaction\", \"data\": {\"outcomeType\": 1, \"valueTowardsCompletion\": 0.5, \"interactionType\": 1, \"questionType\": 2, \"questionId\": \"2_Model2\", \"learnToolsVersion\": \"0.3.4\", \"failureMessage\": \"\", \"exceptionClass\": \"\", \"trace\": \"\"}}, \"*\")"
      ],
      "text/plain": [
       "<IPython.core.display.Javascript object>"
      ]
     },
     "metadata": {},
     "output_type": "display_data"
    },
    {
     "data": {
      "text/markdown": [
       "<span style=\"color:#33cc33\">Correct</span>"
      ],
      "text/plain": [
       "Correct"
      ]
     },
     "metadata": {},
     "output_type": "display_data"
    }
   ],
   "source": [
    "# Define the model\n",
    "my_model_2 = XGBRegressor(n_estimators=100, learning_rate=0.05)\n",
    "# Your code here\n",
    "\n",
    "# Fit the model\n",
    "my_model_2.fit(X_train, y_train)\n",
    "# Your code here\n",
    "\n",
    "# Get predictions\n",
    "predictions_2 = my_model_2.predict(X_valid) # Your code here\n",
    "\n",
    "# Calculate MAE\n",
    "mae_2 =  mean_absolute_error(y_valid, predictions_2) # Your code here\n",
    "\n",
    "# Uncomment to print MAE\n",
    "print(\"Mean Absolute Error:\" , mae_2)\n",
    "\n",
    "# Check your answer\n",
    "step_2.check()"
   ]
  },
  {
   "cell_type": "code",
   "execution_count": 10,
   "id": "d64d5e66",
   "metadata": {
    "execution": {
     "iopub.execute_input": "2022-03-31T03:24:03.828495Z",
     "iopub.status.busy": "2022-03-31T03:24:03.827511Z",
     "iopub.status.idle": "2022-03-31T03:24:03.830738Z",
     "shell.execute_reply": "2022-03-31T03:24:03.831257Z"
    },
    "papermill": {
     "duration": 0.027127,
     "end_time": "2022-03-31T03:24:03.831418",
     "exception": false,
     "start_time": "2022-03-31T03:24:03.804291",
     "status": "completed"
    },
    "tags": []
   },
   "outputs": [],
   "source": [
    "# Lines below will give you a hint or solution code\n",
    "#step_2.hint()\n",
    "#step_2.solution()"
   ]
  },
  {
   "cell_type": "markdown",
   "id": "141be14c",
   "metadata": {
    "papermill": {
     "duration": 0.018616,
     "end_time": "2022-03-31T03:24:03.869122",
     "exception": false,
     "start_time": "2022-03-31T03:24:03.850506",
     "status": "completed"
    },
    "tags": []
   },
   "source": [
    "# Step 3: Break the model\n",
    "\n",
    "In this step, you will create a model that performs worse than the original model in Step 1.  This will help you to develop your intuition for how to set parameters.  You might even find that you accidentally get better performance, which is ultimately a nice problem to have and a valuable learning experience!\n",
    "- Begin by setting `my_model_3` to an XGBoost model, using the [XGBRegressor](https://xgboost.readthedocs.io/en/latest/python/python_api.html#xgboost.XGBRegressor) class.  Use what you learned in the previous tutorial to figure out how to change the default parameters (like `n_estimators` and `learning_rate`) to design a model to get high MAE.\n",
    "- Then, fit the model to the training data in `X_train` and `y_train`.\n",
    "- Set `predictions_3` to the model's predictions for the validation data.  Recall that the validation features are stored in `X_valid`.\n",
    "- Finally, use the `mean_absolute_error()` function to calculate the mean absolute error (MAE) corresponding to the predictions on the validation set.  Recall that the labels for the validation data are stored in `y_valid`.\n",
    "\n",
    "In order for this step to be marked correct, your model in `my_model_3` must attain higher MAE than the model in `my_model_1`. "
   ]
  },
  {
   "cell_type": "code",
   "execution_count": 11,
   "id": "9875375a",
   "metadata": {
    "execution": {
     "iopub.execute_input": "2022-03-31T03:24:03.910215Z",
     "iopub.status.busy": "2022-03-31T03:24:03.909309Z",
     "iopub.status.idle": "2022-03-31T03:24:04.424388Z",
     "shell.execute_reply": "2022-03-31T03:24:04.424869Z",
     "shell.execute_reply.started": "2022-03-31T03:23:26.043335Z"
    },
    "papermill": {
     "duration": 0.537192,
     "end_time": "2022-03-31T03:24:04.425035",
     "exception": false,
     "start_time": "2022-03-31T03:24:03.887843",
     "status": "completed"
    },
    "tags": []
   },
   "outputs": [
    {
     "name": "stdout",
     "output_type": "stream",
     "text": [
      "Mean Absolute Error: 20948.60493364726\n"
     ]
    },
    {
     "data": {
      "application/javascript": [
       "parent.postMessage({\"jupyterEvent\": \"custom.exercise_interaction\", \"data\": {\"outcomeType\": 1, \"valueTowardsCompletion\": 0.5, \"interactionType\": 1, \"questionType\": 2, \"questionId\": \"3_Model3\", \"learnToolsVersion\": \"0.3.4\", \"failureMessage\": \"\", \"exceptionClass\": \"\", \"trace\": \"\"}}, \"*\")"
      ],
      "text/plain": [
       "<IPython.core.display.Javascript object>"
      ]
     },
     "metadata": {},
     "output_type": "display_data"
    },
    {
     "data": {
      "text/markdown": [
       "<span style=\"color:#33cc33\">Correct</span>"
      ],
      "text/plain": [
       "Correct"
      ]
     },
     "metadata": {},
     "output_type": "display_data"
    }
   ],
   "source": [
    "# Define the model\n",
    "my_model_3 = XGBRegressor(n_estimators=50, learning_rate=0.5)\n",
    "\n",
    "# Fit the model\n",
    "my_model_3.fit(X_train, y_train) # Your code here\n",
    "\n",
    "# Get predictions\n",
    "predictions_3 = my_model_3.predict(X_valid)\n",
    "\n",
    "# Calculate MAE\n",
    "mae_3 = mean_absolute_error(y_valid, predictions_3)\n",
    "\n",
    "# Uncomment to print MAE\n",
    "print(\"Mean Absolute Error:\" , mae_3)\n",
    "\n",
    "# Check your answer\n",
    "step_3.check()"
   ]
  },
  {
   "cell_type": "code",
   "execution_count": 12,
   "id": "30fb9078",
   "metadata": {
    "execution": {
     "iopub.execute_input": "2022-03-31T03:24:04.468663Z",
     "iopub.status.busy": "2022-03-31T03:24:04.467980Z",
     "iopub.status.idle": "2022-03-31T03:24:04.470472Z",
     "shell.execute_reply": "2022-03-31T03:24:04.470971Z"
    },
    "papermill": {
     "duration": 0.026569,
     "end_time": "2022-03-31T03:24:04.471132",
     "exception": false,
     "start_time": "2022-03-31T03:24:04.444563",
     "status": "completed"
    },
    "tags": []
   },
   "outputs": [],
   "source": [
    "# Lines below will give you a hint or solution code\n",
    "#step_3.hint()\n",
    "#step_3.solution()"
   ]
  },
  {
   "cell_type": "markdown",
   "id": "c78342a8",
   "metadata": {
    "papermill": {
     "duration": 0.019387,
     "end_time": "2022-03-31T03:24:04.510240",
     "exception": false,
     "start_time": "2022-03-31T03:24:04.490853",
     "status": "completed"
    },
    "tags": []
   },
   "source": [
    "# Keep going\n",
    "\n",
    "Continue to learn about **[data leakage](https://www.kaggle.com/alexisbcook/data-leakage)**.  This is an important issue for a data scientist to understand, and it has the potential to ruin your models in subtle and dangerous ways!"
   ]
  },
  {
   "cell_type": "markdown",
   "id": "48a1c609",
   "metadata": {
    "papermill": {
     "duration": 0.019816,
     "end_time": "2022-03-31T03:24:04.549883",
     "exception": false,
     "start_time": "2022-03-31T03:24:04.530067",
     "status": "completed"
    },
    "tags": []
   },
   "source": [
    "---\n",
    "\n",
    "\n",
    "\n",
    "\n",
    "*Have questions or comments? Visit the [course discussion forum](https://www.kaggle.com/learn/intermediate-machine-learning/discussion) to chat with other learners.*"
   ]
  }
 ],
 "metadata": {
  "kernelspec": {
   "display_name": "Python 3",
   "language": "python",
   "name": "python3"
  },
  "language_info": {
   "codemirror_mode": {
    "name": "ipython",
    "version": 3
   },
   "file_extension": ".py",
   "mimetype": "text/x-python",
   "name": "python",
   "nbconvert_exporter": "python",
   "pygments_lexer": "ipython3",
   "version": "3.7.12"
  },
  "papermill": {
   "default_parameters": {},
   "duration": 15.088383,
   "end_time": "2022-03-31T03:24:05.279344",
   "environment_variables": {},
   "exception": null,
   "input_path": "__notebook__.ipynb",
   "output_path": "__notebook__.ipynb",
   "parameters": {},
   "start_time": "2022-03-31T03:23:50.190961",
   "version": "2.3.3"
  }
 },
 "nbformat": 4,
 "nbformat_minor": 5
}
